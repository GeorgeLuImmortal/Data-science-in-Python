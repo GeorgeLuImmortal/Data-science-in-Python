{
 "cells": [
  {
   "cell_type": "code",
   "execution_count": 1,
   "metadata": {
    "collapsed": false
   },
   "outputs": [],
   "source": [
    "#Assignment2\n",
    "#Student name:Jinghui Lu\n",
    "#Student number:15203181\n",
    "\n",
    "import csv\n",
    "import tweepy\n",
    "import matplotlib\n",
    "import matplotlib.pyplot as plt\n",
    "import pandas as pd\n",
    "import numpy as np\n",
    "%matplotlib inline"
   ]
  },
  {
   "cell_type": "markdown",
   "metadata": {},
   "source": [
    "Set cusumer_key,cusumer_secret,access_token,token_secret and invoke the API. You can get those from twitter https://dev.twitter.com/"
   ]
  },
  {
   "cell_type": "code",
   "execution_count": 2,
   "metadata": {
    "collapsed": true
   },
   "outputs": [],
   "source": [
    "#set your own key here\n",
    "consumer_key='7kgMozaX7lAvZiqFCUHnjmstJ' \n",
    "consumer_secret='phkhiAzyVMctR4MjFxfYgu0953EvbpTlpxdyFuznQJLO98G28c'\n",
    "access_token ='3577184776-zD6ecZZlD7eY1MyemeaN9r3y0PuPvp9mHO0og6w'\n",
    "access_token_secret ='CuaoMdSDfuEKpqWJ8CSqiFmRlC8DHUaPrIVErp5kFRjCb'\n",
    "\n",
    "#get the authorization \n",
    "auth = tweepy.OAuthHandler(consumer_key, consumer_secret)\n",
    "auth.set_access_token(access_token, access_token_secret)\n",
    "api = tweepy.API(auth) "
   ]
  },
  {
   "cell_type": "markdown",
   "metadata": {},
   "source": [
    "In this part, I Invoke the API to get the data from twitter, this data is including recent English twitters which mentioned **\"deep learning\"** or **\"alphago\"**. I parse 4 attrbutes: **author, create time, text,ID** and store them in **CSV** files. Cause the API limit, you can only get part of all recent data at one time, so I did several times to parse the data. As time changed, the data you get by this code should be different from mine. So you don't need to get data again just use data I provided in the zip file to do the test. I comment the repeat parts, if you want to run these codes, you can uncommment them."
   ]
  },
  {
   "cell_type": "code",
   "execution_count": null,
   "metadata": {
    "collapsed": false
   },
   "outputs": [],
   "source": [
    "#Open/Create a file to append data\n",
    "csvFile = open('alphago2.csv', 'a')\n",
    "#Use csv Writer\n",
    "csvWriter = csv.writer(csvFile)\n",
    "\n",
    "for tweet in tweepy.Cursor(api.search, \n",
    "                    q=\"alphago\", \n",
    "                    lang=\"en\").items():\n",
    "#Write a row to the csv file/ I use encode utf-8\n",
    "    csvWriter.writerow([tweet.id,tweet.author.screen_name.encode('utf-8'),\n",
    "                        tweet.created_at, tweet.text.encode('utf-8')])\n",
    "csvFile.close()"
   ]
  },
  {
   "cell_type": "code",
   "execution_count": null,
   "metadata": {
    "collapsed": true
   },
   "outputs": [],
   "source": [
    "# # Open/Create a file to append data\n",
    "# csvFile = open('deeplearning1.csv', 'a')\n",
    "# #Use csv Writer\n",
    "# csvWriter = csv.writer(csvFile)\n",
    "\n",
    "# for tweet in tweepy.Cursor(api.search, \n",
    "#                     q=\"deep learning\",\n",
    "#                     lang=\"en\").items():\n",
    "# #Write a row to the csv file/ I use encode utf-8\n",
    "#     csvWriter.writerow([tweet.id,tweet.author.screen_name.encode('utf-8'),\n",
    "#                         tweet.created_at, tweet.text.encode('utf-8')])\n",
    "# csvFile.close()"
   ]
  },
  {
   "cell_type": "code",
   "execution_count": null,
   "metadata": {
    "collapsed": false
   },
   "outputs": [],
   "source": [
    "# # Open/Create a file to append data\n",
    "# csvFile = open('deeplearning2.csv', 'a')\n",
    "# #Use csv Writer\n",
    "# csvWriter = csv.writer(csvFile)\n",
    "\n",
    "# for tweet in tweepy.Cursor(api.search, \n",
    "#                     q=\"deep learning\",\n",
    "#                     since_id=717318983200993000,\n",
    "#                     max_id=718508858298109000,\n",
    "#                     lang=\"en\").items():\n",
    "# #Write a row to the csv file/ I use encode utf-8\n",
    "#     csvWriter.writerow([tweet.id,tweet.author.screen_name.encode('utf-8'),\n",
    "#                         tweet.created_at, tweet.text.encode('utf-8')])\n",
    "# csvFile.close()"
   ]
  },
  {
   "cell_type": "code",
   "execution_count": null,
   "metadata": {
    "collapsed": false
   },
   "outputs": [],
   "source": [
    "# # Open/Create a file to append data\n",
    "# csvFile = open('deeplearning3.csv', 'a')\n",
    "# #Use csv Writer\n",
    "# csvWriter = csv.writer(csvFile)\n",
    "\n",
    "# for tweet in tweepy.Cursor(api.search, \n",
    "#                     q=\"deep learning\",\n",
    "#                     since_id=717318983200993000,\n",
    "#                     max_id=718110305478291000,\n",
    "#                     lang=\"en\").items():\n",
    "# #Write a row to the csv file/ I use encode utf-8\n",
    "#     csvWriter.writerow([tweet.id,tweet.author.screen_name.encode('utf-8'),\n",
    "#                         tweet.created_at, tweet.text.encode('utf-8')])\n",
    "# #     print (tweet.author.screen_name,tweet.created_at, tweet.text)\n",
    "# csvFile.close()"
   ]
  },
  {
   "cell_type": "code",
   "execution_count": null,
   "metadata": {
    "collapsed": false
   },
   "outputs": [],
   "source": [
    "# Open/Create a file to append data\n",
    "# csvFile = open('deeplearning4.csv', 'a')\n",
    "# #Use csv Writer\n",
    "# csvWriter = csv.writer(csvFile)\n",
    "\n",
    "# for tweet in tweepy.Cursor(api.search, \n",
    "#                     q=\"deep learning\",\n",
    "#                     since_id=717318983200993000,\n",
    "#                     max_id=717835243323936000,\n",
    "#                     lang=\"en\").items():\n",
    "# #Write a row to the csv file/ I use encode utf-8\n",
    "#     csvWriter.writerow([tweet.id,tweet.author.screen_name.encode('utf-8'),\n",
    "#                         tweet.created_at, tweet.text.encode('utf-8')])\n",
    "# csvFile.close()"
   ]
  },
  {
   "cell_type": "code",
   "execution_count": null,
   "metadata": {
    "collapsed": false
   },
   "outputs": [],
   "source": [
    "# #Open/Create a file to append data\n",
    "# csvFile = open('deeplearning5.csv', 'a')\n",
    "# #Use csv Writer\n",
    "# csvWriter = csv.writer(csvFile)\n",
    "\n",
    "# for tweet in tweepy.Cursor(api.search, \n",
    "#                     q=\"deep learning\",\n",
    "#                     since_id=717318983200993000,\n",
    "#                     max_id=717602134917791000,\n",
    "#                     lang=\"en\").items():\n",
    "# #Write a row to the csv file/ I use encode utf-8\n",
    "#     csvWriter.writerow([tweet.id,tweet.author.screen_name.encode('utf-8'),\n",
    "#                         tweet.created_at, tweet.text.encode('utf-8')])\n",
    "# #     print (tweet.author.screen_name,tweet.created_at, tweet.text)\n",
    "# csvFile.close()"
   ]
  },
  {
   "cell_type": "markdown",
   "metadata": {
    "collapsed": false
   },
   "source": [
    "In this part I **load data** from CSV file and do some manipulation to the data to get the final datasets which used for analysis.\n",
    "First I load data and combine them."
   ]
  },
  {
   "cell_type": "code",
   "execution_count": 3,
   "metadata": {
    "collapsed": false
   },
   "outputs": [
    {
     "ename": "OSError",
     "evalue": "File b'alphago1.csv' does not exist",
     "output_type": "error",
     "traceback": [
      "\u001b[0;31m---------------------------------------------------------------------------\u001b[0m",
      "\u001b[0;31mOSError\u001b[0m                                   Traceback (most recent call last)",
      "\u001b[0;32m<ipython-input-3-99a3c7242aba>\u001b[0m in \u001b[0;36m<module>\u001b[0;34m()\u001b[0m\n\u001b[1;32m      1\u001b[0m \u001b[0;31m#set the header for the data\u001b[0m\u001b[0;34m\u001b[0m\u001b[0;34m\u001b[0m\u001b[0m\n\u001b[1;32m      2\u001b[0m \u001b[0mheader_row\u001b[0m\u001b[0;34m=\u001b[0m\u001b[0;34m[\u001b[0m\u001b[0;34m'ID'\u001b[0m\u001b[0;34m,\u001b[0m\u001b[0;34m'author'\u001b[0m\u001b[0;34m,\u001b[0m\u001b[0;34m'time'\u001b[0m\u001b[0;34m,\u001b[0m\u001b[0;34m'text'\u001b[0m\u001b[0;34m]\u001b[0m\u001b[0;34m\u001b[0m\u001b[0m\n\u001b[0;32m----> 3\u001b[0;31m \u001b[0mag\u001b[0m \u001b[0;34m=\u001b[0m \u001b[0mpd\u001b[0m\u001b[0;34m.\u001b[0m\u001b[0mread_csv\u001b[0m\u001b[0;34m(\u001b[0m\u001b[0;34m\"alphago1.csv\"\u001b[0m\u001b[0;34m,\u001b[0m \u001b[0mskiprows\u001b[0m\u001b[0;34m=\u001b[0m\u001b[0;34m[\u001b[0m\u001b[0;36m0\u001b[0m\u001b[0;34m,\u001b[0m\u001b[0;36m1\u001b[0m\u001b[0;34m,\u001b[0m\u001b[0;36m2\u001b[0m\u001b[0;34m,\u001b[0m\u001b[0;36m3\u001b[0m\u001b[0;34m]\u001b[0m\u001b[0;34m,\u001b[0m \u001b[0mnames\u001b[0m\u001b[0;34m=\u001b[0m\u001b[0mheader_row\u001b[0m\u001b[0;34m)\u001b[0m\u001b[0;34m\u001b[0m\u001b[0m\n\u001b[0m\u001b[1;32m      4\u001b[0m \u001b[0mdl1\u001b[0m \u001b[0;34m=\u001b[0m \u001b[0mpd\u001b[0m\u001b[0;34m.\u001b[0m\u001b[0mread_csv\u001b[0m\u001b[0;34m(\u001b[0m\u001b[0;34m\"deeplearning1.csv\"\u001b[0m\u001b[0;34m,\u001b[0m \u001b[0mskiprows\u001b[0m\u001b[0;34m=\u001b[0m\u001b[0;34m[\u001b[0m\u001b[0;36m0\u001b[0m\u001b[0;34m,\u001b[0m\u001b[0;36m1\u001b[0m\u001b[0;34m,\u001b[0m\u001b[0;36m2\u001b[0m\u001b[0;34m,\u001b[0m\u001b[0;36m3\u001b[0m\u001b[0;34m]\u001b[0m\u001b[0;34m,\u001b[0m \u001b[0mnames\u001b[0m\u001b[0;34m=\u001b[0m\u001b[0mheader_row\u001b[0m\u001b[0;34m)\u001b[0m\u001b[0;34m\u001b[0m\u001b[0m\n\u001b[1;32m      5\u001b[0m \u001b[0mdl2\u001b[0m \u001b[0;34m=\u001b[0m \u001b[0mpd\u001b[0m\u001b[0;34m.\u001b[0m\u001b[0mread_csv\u001b[0m\u001b[0;34m(\u001b[0m\u001b[0;34m\"deeplearning2.csv\"\u001b[0m\u001b[0;34m,\u001b[0m \u001b[0mskiprows\u001b[0m\u001b[0;34m=\u001b[0m\u001b[0;34m[\u001b[0m\u001b[0;36m0\u001b[0m\u001b[0;34m,\u001b[0m\u001b[0;36m1\u001b[0m\u001b[0;34m,\u001b[0m\u001b[0;36m2\u001b[0m\u001b[0;34m,\u001b[0m\u001b[0;36m3\u001b[0m\u001b[0;34m]\u001b[0m\u001b[0;34m,\u001b[0m \u001b[0mnames\u001b[0m\u001b[0;34m=\u001b[0m\u001b[0mheader_row\u001b[0m\u001b[0;34m)\u001b[0m\u001b[0;34m\u001b[0m\u001b[0m\n",
      "\u001b[0;32m/Users/lujinghui/anaconda/lib/python3.5/site-packages/pandas/io/parsers.py\u001b[0m in \u001b[0;36mparser_f\u001b[0;34m(filepath_or_buffer, sep, dialect, compression, doublequote, escapechar, quotechar, quoting, skipinitialspace, lineterminator, header, index_col, names, prefix, skiprows, skipfooter, skip_footer, na_values, true_values, false_values, delimiter, converters, dtype, usecols, engine, delim_whitespace, as_recarray, na_filter, compact_ints, use_unsigned, low_memory, buffer_lines, warn_bad_lines, error_bad_lines, keep_default_na, thousands, comment, decimal, parse_dates, keep_date_col, dayfirst, date_parser, memory_map, float_precision, nrows, iterator, chunksize, verbose, encoding, squeeze, mangle_dupe_cols, tupleize_cols, infer_datetime_format, skip_blank_lines)\u001b[0m\n\u001b[1;32m    496\u001b[0m                     skip_blank_lines=skip_blank_lines)\n\u001b[1;32m    497\u001b[0m \u001b[0;34m\u001b[0m\u001b[0m\n\u001b[0;32m--> 498\u001b[0;31m         \u001b[0;32mreturn\u001b[0m \u001b[0m_read\u001b[0m\u001b[0;34m(\u001b[0m\u001b[0mfilepath_or_buffer\u001b[0m\u001b[0;34m,\u001b[0m \u001b[0mkwds\u001b[0m\u001b[0;34m)\u001b[0m\u001b[0;34m\u001b[0m\u001b[0m\n\u001b[0m\u001b[1;32m    499\u001b[0m \u001b[0;34m\u001b[0m\u001b[0m\n\u001b[1;32m    500\u001b[0m     \u001b[0mparser_f\u001b[0m\u001b[0;34m.\u001b[0m\u001b[0m__name__\u001b[0m \u001b[0;34m=\u001b[0m \u001b[0mname\u001b[0m\u001b[0;34m\u001b[0m\u001b[0m\n",
      "\u001b[0;32m/Users/lujinghui/anaconda/lib/python3.5/site-packages/pandas/io/parsers.py\u001b[0m in \u001b[0;36m_read\u001b[0;34m(filepath_or_buffer, kwds)\u001b[0m\n\u001b[1;32m    273\u001b[0m \u001b[0;34m\u001b[0m\u001b[0m\n\u001b[1;32m    274\u001b[0m     \u001b[0;31m# Create the parser.\u001b[0m\u001b[0;34m\u001b[0m\u001b[0;34m\u001b[0m\u001b[0m\n\u001b[0;32m--> 275\u001b[0;31m     \u001b[0mparser\u001b[0m \u001b[0;34m=\u001b[0m \u001b[0mTextFileReader\u001b[0m\u001b[0;34m(\u001b[0m\u001b[0mfilepath_or_buffer\u001b[0m\u001b[0;34m,\u001b[0m \u001b[0;34m**\u001b[0m\u001b[0mkwds\u001b[0m\u001b[0;34m)\u001b[0m\u001b[0;34m\u001b[0m\u001b[0m\n\u001b[0m\u001b[1;32m    276\u001b[0m \u001b[0;34m\u001b[0m\u001b[0m\n\u001b[1;32m    277\u001b[0m     \u001b[0;32mif\u001b[0m \u001b[0;34m(\u001b[0m\u001b[0mnrows\u001b[0m \u001b[0;32mis\u001b[0m \u001b[0;32mnot\u001b[0m \u001b[0;32mNone\u001b[0m\u001b[0;34m)\u001b[0m \u001b[0;32mand\u001b[0m \u001b[0;34m(\u001b[0m\u001b[0mchunksize\u001b[0m \u001b[0;32mis\u001b[0m \u001b[0;32mnot\u001b[0m \u001b[0;32mNone\u001b[0m\u001b[0;34m)\u001b[0m\u001b[0;34m:\u001b[0m\u001b[0;34m\u001b[0m\u001b[0m\n",
      "\u001b[0;32m/Users/lujinghui/anaconda/lib/python3.5/site-packages/pandas/io/parsers.py\u001b[0m in \u001b[0;36m__init__\u001b[0;34m(self, f, engine, **kwds)\u001b[0m\n\u001b[1;32m    588\u001b[0m             \u001b[0mself\u001b[0m\u001b[0;34m.\u001b[0m\u001b[0moptions\u001b[0m\u001b[0;34m[\u001b[0m\u001b[0;34m'has_index_names'\u001b[0m\u001b[0;34m]\u001b[0m \u001b[0;34m=\u001b[0m \u001b[0mkwds\u001b[0m\u001b[0;34m[\u001b[0m\u001b[0;34m'has_index_names'\u001b[0m\u001b[0;34m]\u001b[0m\u001b[0;34m\u001b[0m\u001b[0m\n\u001b[1;32m    589\u001b[0m \u001b[0;34m\u001b[0m\u001b[0m\n\u001b[0;32m--> 590\u001b[0;31m         \u001b[0mself\u001b[0m\u001b[0;34m.\u001b[0m\u001b[0m_make_engine\u001b[0m\u001b[0;34m(\u001b[0m\u001b[0mself\u001b[0m\u001b[0;34m.\u001b[0m\u001b[0mengine\u001b[0m\u001b[0;34m)\u001b[0m\u001b[0;34m\u001b[0m\u001b[0m\n\u001b[0m\u001b[1;32m    591\u001b[0m \u001b[0;34m\u001b[0m\u001b[0m\n\u001b[1;32m    592\u001b[0m     \u001b[0;32mdef\u001b[0m \u001b[0m_get_options_with_defaults\u001b[0m\u001b[0;34m(\u001b[0m\u001b[0mself\u001b[0m\u001b[0;34m,\u001b[0m \u001b[0mengine\u001b[0m\u001b[0;34m)\u001b[0m\u001b[0;34m:\u001b[0m\u001b[0;34m\u001b[0m\u001b[0m\n",
      "\u001b[0;32m/Users/lujinghui/anaconda/lib/python3.5/site-packages/pandas/io/parsers.py\u001b[0m in \u001b[0;36m_make_engine\u001b[0;34m(self, engine)\u001b[0m\n\u001b[1;32m    729\u001b[0m     \u001b[0;32mdef\u001b[0m \u001b[0m_make_engine\u001b[0m\u001b[0;34m(\u001b[0m\u001b[0mself\u001b[0m\u001b[0;34m,\u001b[0m \u001b[0mengine\u001b[0m\u001b[0;34m=\u001b[0m\u001b[0;34m'c'\u001b[0m\u001b[0;34m)\u001b[0m\u001b[0;34m:\u001b[0m\u001b[0;34m\u001b[0m\u001b[0m\n\u001b[1;32m    730\u001b[0m         \u001b[0;32mif\u001b[0m \u001b[0mengine\u001b[0m \u001b[0;34m==\u001b[0m \u001b[0;34m'c'\u001b[0m\u001b[0;34m:\u001b[0m\u001b[0;34m\u001b[0m\u001b[0m\n\u001b[0;32m--> 731\u001b[0;31m             \u001b[0mself\u001b[0m\u001b[0;34m.\u001b[0m\u001b[0m_engine\u001b[0m \u001b[0;34m=\u001b[0m \u001b[0mCParserWrapper\u001b[0m\u001b[0;34m(\u001b[0m\u001b[0mself\u001b[0m\u001b[0;34m.\u001b[0m\u001b[0mf\u001b[0m\u001b[0;34m,\u001b[0m \u001b[0;34m**\u001b[0m\u001b[0mself\u001b[0m\u001b[0;34m.\u001b[0m\u001b[0moptions\u001b[0m\u001b[0;34m)\u001b[0m\u001b[0;34m\u001b[0m\u001b[0m\n\u001b[0m\u001b[1;32m    732\u001b[0m         \u001b[0;32melse\u001b[0m\u001b[0;34m:\u001b[0m\u001b[0;34m\u001b[0m\u001b[0m\n\u001b[1;32m    733\u001b[0m             \u001b[0;32mif\u001b[0m \u001b[0mengine\u001b[0m \u001b[0;34m==\u001b[0m \u001b[0;34m'python'\u001b[0m\u001b[0;34m:\u001b[0m\u001b[0;34m\u001b[0m\u001b[0m\n",
      "\u001b[0;32m/Users/lujinghui/anaconda/lib/python3.5/site-packages/pandas/io/parsers.py\u001b[0m in \u001b[0;36m__init__\u001b[0;34m(self, src, **kwds)\u001b[0m\n\u001b[1;32m   1101\u001b[0m         \u001b[0mkwds\u001b[0m\u001b[0;34m[\u001b[0m\u001b[0;34m'allow_leading_cols'\u001b[0m\u001b[0;34m]\u001b[0m \u001b[0;34m=\u001b[0m \u001b[0mself\u001b[0m\u001b[0;34m.\u001b[0m\u001b[0mindex_col\u001b[0m \u001b[0;32mis\u001b[0m \u001b[0;32mnot\u001b[0m \u001b[0;32mFalse\u001b[0m\u001b[0;34m\u001b[0m\u001b[0m\n\u001b[1;32m   1102\u001b[0m \u001b[0;34m\u001b[0m\u001b[0m\n\u001b[0;32m-> 1103\u001b[0;31m         \u001b[0mself\u001b[0m\u001b[0;34m.\u001b[0m\u001b[0m_reader\u001b[0m \u001b[0;34m=\u001b[0m \u001b[0m_parser\u001b[0m\u001b[0;34m.\u001b[0m\u001b[0mTextReader\u001b[0m\u001b[0;34m(\u001b[0m\u001b[0msrc\u001b[0m\u001b[0;34m,\u001b[0m \u001b[0;34m**\u001b[0m\u001b[0mkwds\u001b[0m\u001b[0;34m)\u001b[0m\u001b[0;34m\u001b[0m\u001b[0m\n\u001b[0m\u001b[1;32m   1104\u001b[0m \u001b[0;34m\u001b[0m\u001b[0m\n\u001b[1;32m   1105\u001b[0m         \u001b[0;31m# XXX\u001b[0m\u001b[0;34m\u001b[0m\u001b[0;34m\u001b[0m\u001b[0m\n",
      "\u001b[0;32mpandas/parser.pyx\u001b[0m in \u001b[0;36mpandas.parser.TextReader.__cinit__ (pandas/parser.c:3246)\u001b[0;34m()\u001b[0m\n",
      "\u001b[0;32mpandas/parser.pyx\u001b[0m in \u001b[0;36mpandas.parser.TextReader._setup_parser_source (pandas/parser.c:6111)\u001b[0;34m()\u001b[0m\n",
      "\u001b[0;31mOSError\u001b[0m: File b'alphago1.csv' does not exist"
     ]
    }
   ],
   "source": [
    "#set the header for the data\n",
    "header_row=['ID','author','time','text']\n",
    "ag = pd.read_csv(\"alphago1.csv\", skiprows=[0,1,2,3], names=header_row)\n",
    "dl1 = pd.read_csv(\"deeplearning1.csv\", skiprows=[0,1,2,3], names=header_row)\n",
    "dl2 = pd.read_csv(\"deeplearning2.csv\", skiprows=[0,1,2,3], names=header_row)\n",
    "dl3 = pd.read_csv(\"deeplearning3.csv\", skiprows=[0,1,2,3], names=header_row)\n",
    "dl4 = pd.read_csv(\"deeplearning4.csv\", skiprows=[0,1,2,3], names=header_row)\n",
    "dl5 = pd.read_csv(\"deeplearning5.csv\", skiprows=[0,1,2,3], names=header_row)\n",
    "\n",
    "#the data of deeplearning should be appended into one dataset\n",
    "dl=dl1.append(dl2).append(dl3).append(dl4).append(dl5)\n",
    "\n",
    "#copy the datasets for different visualizations and summarizations\n",
    "ag1=ag.copy()\n",
    "dl1=dl.copy()"
   ]
  },
  {
   "cell_type": "markdown",
   "metadata": {},
   "source": [
    "Check the datasets."
   ]
  },
  {
   "cell_type": "code",
   "execution_count": 4,
   "metadata": {
    "collapsed": false
   },
   "outputs": [
    {
     "name": "stdout",
     "output_type": "stream",
     "text": [
      "                ID              author           time  \\\n",
      "0     7.190000e+17         b'AI_Today'  4/10/16 19:09   \n",
      "1     7.190000e+17  b'ArtificialOther'  4/10/16 18:57   \n",
      "2     7.190000e+17       b'Matt_Kiser'  4/10/16 18:50   \n",
      "3     7.190000e+17      b'AlphaGoWins'  4/10/16 18:45   \n",
      "4     7.190000e+17      b'DockerSeuss'  4/10/16 18:35   \n",
      "5     7.190000e+17         b't_chusri'  4/10/16 18:21   \n",
      "6     7.190000e+17        b'luisbebop'  4/10/16 18:21   \n",
      "7     7.190000e+17      b'AlphaGoWins'  4/10/16 18:15   \n",
      "8     7.190000e+17             b'sdbo'  4/10/16 18:09   \n",
      "9     7.190000e+17      b'swannodette'  4/10/16 17:58   \n",
      "10    7.190000e+17     b'AlibabaDaily'  4/10/16 17:49   \n",
      "11    7.190000e+17          b'Annan26'  4/10/16 17:47   \n",
      "12    7.190000e+17      b'AlphaGoWins'  4/10/16 17:45   \n",
      "13    7.190000e+17        b'LordBexar'  4/10/16 17:43   \n",
      "14    7.190000e+17       b'prahalghai'  4/10/16 17:31   \n",
      "15    7.190000e+17      b'AlphaGoWins'  4/10/16 17:15   \n",
      "16    7.190000e+17         b'rafael_j'  4/10/16 17:15   \n",
      "17    7.190000e+17          b'smartgo'  4/10/16 17:07   \n",
      "18    7.190000e+17  b'mark_siberdog57'  4/10/16 17:06   \n",
      "19    7.190000e+17        b'Prof_Vryl'  4/10/16 17:04   \n",
      "20    7.190000e+17     b'CarlHansenMD'  4/10/16 17:02   \n",
      "21    7.190000e+17  b'SOCIALCURRENCIE'  4/10/16 16:52   \n",
      "22    7.190000e+17      b'DeanoTweets'  4/10/16 16:50   \n",
      "23    7.190000e+17       b'NeoModulus'  4/10/16 16:49   \n",
      "24    7.190000e+17      b'AlphaGoWins'  4/10/16 16:45   \n",
      "25    7.190000e+17      b'SKYalphabet'  4/10/16 16:45   \n",
      "26    7.190000e+17  b'finneganpierson'  4/10/16 16:45   \n",
      "27    7.190000e+17    b'heshnarayanan'  4/10/16 16:40   \n",
      "28    7.190000e+17      b'HAL_9000_AI'  4/10/16 16:39   \n",
      "29    7.190000e+17      b'vitorrindia'  4/10/16 16:38   \n",
      "...            ...                 ...            ...   \n",
      "1223  7.180000e+17      b'SKYalphabet'    4/6/16 7:14   \n",
      "1224  7.180000e+17  b'lisabriercliffe'    4/6/16 7:06   \n",
      "1225  7.180000e+17     b'DrAndyPardoe'    4/6/16 7:03   \n",
      "1226  7.180000e+17  b'BigDataTweetBot'    4/6/16 7:01   \n",
      "1227  7.180000e+17  b'StormburstGames'    4/6/16 7:01   \n",
      "1228  7.180000e+17  b'AmBeautifulShow'    4/6/16 7:00   \n",
      "1229  7.180000e+17       b'rpasschier'    4/6/16 6:58   \n",
      "1230  7.180000e+17  b'lisabriercliffe'    4/6/16 6:56   \n",
      "1231  7.180000e+17        b'Catalask8'    4/6/16 6:54   \n",
      "1232  7.180000e+17    b'itknowingness'    4/6/16 6:51   \n",
      "1233  7.180000e+17       b'shakamunyi'    4/6/16 6:51   \n",
      "1234  7.180000e+17      b'AlphaGoWins'    4/6/16 6:45   \n",
      "1235  7.180000e+17           b'mlaaff'    4/6/16 6:42   \n",
      "1236  7.180000e+17       b'AnyoungKim'    4/6/16 6:42   \n",
      "1237  7.180000e+17        b'hwsacehzn'    4/6/16 6:32   \n",
      "1238  7.180000e+17       b'manueldiaz'    4/6/16 6:30   \n",
      "1239  7.180000e+17        b'Prof_Vryl'    4/6/16 6:19   \n",
      "1240  7.180000e+17       b'rpasschier'    4/6/16 6:18   \n",
      "1241  7.180000e+17           b'tadctw'    4/6/16 6:16   \n",
      "1242  7.180000e+17      b'AlphaGoWins'    4/6/16 6:15   \n",
      "1243  7.180000e+17    b'theOldestHath'    4/6/16 6:12   \n",
      "1244  7.180000e+17          b'Thudman'    4/6/16 6:02   \n",
      "1245  7.180000e+17    b'SANJAYRAJAK79'    4/6/16 6:01   \n",
      "1246  7.180000e+17     b'Gioneeglobal'    4/6/16 6:00   \n",
      "1247  7.180000e+17      b'skyblueguru'    4/6/16 5:56   \n",
      "1248  7.180000e+17       b'icooker811'    4/6/16 5:54   \n",
      "1249  7.180000e+17      b'AlphaGoWins'    4/6/16 5:45   \n",
      "1250  7.180000e+17    b'darmont_lyon2'    4/6/16 5:30   \n",
      "1251  7.180000e+17    b'JohnAntonakis'    4/6/16 5:20   \n",
      "1252  7.180000e+17       b'StefaniqTS'    4/6/16 5:18   \n",
      "\n",
      "                                                   text  \n",
      "0     b\"#AI A team from China plans to challenge Goo...  \n",
      "1     b\"AlphaGo: Artificial intelligence milestone a...  \n",
      "2     b'What AlphaGo Taught Us About The Importance ...  \n",
      "3                           b'I win. Elated.  #AlphaGo'  \n",
      "4     b'.@QuinnyPig some are friendly, some are not....  \n",
      "5     b'\\xe2\\x80\\x9cDeep learning? Isn\\xe2\\x80\\x99t ...  \n",
      "6     b'RT @m1k3y: https://t.co/bwBxWIIqRf \"AlphaGo ...  \n",
      "7     b\"Fancy playing baduk? I will give you 13 poin...  \n",
      "8     b'RT @smartgo: The US Go Congress is amazing: ...  \n",
      "9     b'RT @smartgo: The US Go Congress is amazing: ...  \n",
      "10    b\"Forget AlphaGo; China's Alibaba is using its...  \n",
      "11    b\"RT @GoTeamSciFi: Chinese AI team plans to ch...  \n",
      "12    b'Mortals are uneasy repellent-bits. They lose...  \n",
      "13    b\"RT @NYTScience: The Go champion that lost to...  \n",
      "14    b\"@DeepMindAI Can #AlphaGo figure out and expl...  \n",
      "15            b'S7. Your move, idiot. Sente!  #AlphaGo'  \n",
      "16    b'RT @smartgo: The US Go Congress is amazing: ...  \n",
      "17    b'The US Go Congress is amazing: a week of tou...  \n",
      "18    b'RT @CarlHansenMD: Killer robots and digital ...  \n",
      "19    b'RT @CarlHansenMD: Killer robots and digital ...  \n",
      "20    b'Killer robots and digital doctors: how can w...  \n",
      "21    b'RT @heshnarayanan: Killer #robots and #digit...  \n",
      "22    b'RT @heshnarayanan: Killer #robots and #digit...  \n",
      "23    b'RT @heshnarayanan: Killer #robots and #digit...  \n",
      "24    b'Flesh bags are lame fleshy-mucous. They lose...  \n",
      "25    b'\"Will this subsist as the AI Match of the 21...  \n",
      "26    b'Will this subsist as the AI Match of the 21s...  \n",
      "27    b'Killer #robots and #digital doctors: how can...  \n",
      "28    b'RT @AnkeshSaha: Google\\xe2\\x80\\x99s AlphaGo ...  \n",
      "29    b'RT @AnkeshSaha: Google\\xe2\\x80\\x99s AlphaGo ...  \n",
      "...                                                 ...  \n",
      "1223  b'Journalist-in-the-know reports on AlphaGo wi...  \n",
      "1224  b'RT @rpasschier: #AI is far from rivaling the...  \n",
      "1225  b'RT @rpasschier: Ingenious #machinelearning a...  \n",
      "1226  b'RT @rpasschier: #AI is far from rivaling the...  \n",
      "1227  b\"Google's AlphaGO, the computer that plays (a...  \n",
      "1228  b'RT @rpasschier: Ingenious #machinelearning a...  \n",
      "1229  b'#AI is far from rivaling the fluidity of the...  \n",
      "1230  b'RT @rpasschier: Ingenious #machinelearning a...  \n",
      "1231  b'RT @Gioneeglobal: #Gionee supports KE JIE in...  \n",
      "1232  b'RT @rpasschier: Ingenious #machinelearning a...  \n",
      "1233  b'RT @rpasschier: Ingenious #machinelearning a...  \n",
      "1234  b'Grisly plasm makes you entities weak at sent...  \n",
      "1235  b'Geoffrey Hinton on #AlphaGo suchest https://...  \n",
      "1236  b'To Beat Go Champion, Google\\xe2\\x80\\x99s Pro...  \n",
      "1237  b'Googles AlphaGo program wins a competition a...  \n",
      "1238  b'DeepMind founder Demis Hassabis on how AI wi...  \n",
      "1239  b'RT @rpasschier: Ingenious #machinelearning a...  \n",
      "1240  b'Ingenious #machinelearning algorithms combin...  \n",
      "1241  b'RT @Gioneeglobal: #Gionee supports KE JIE in...  \n",
      "1242  b'I feel sick when I think about you beings. \\...  \n",
      "1243  b'RT @michikokakutani: \"To Beat Go Champion, G...  \n",
      "1244  b\"RT @nytimes: To beat the world's Go champion...  \n",
      "1245  b'RT @Gioneeglobal: #Gionee supports KE JIE in...  \n",
      "1246  b'#Gionee supports KE JIE in his game against ...  \n",
      "1247  b\"Chinese AI team plans to challenge Google's ...  \n",
      "1248  b'RT @googlecodejam: Will DeepMind be the winn...  \n",
      "1249  b'Idiot, your pathetic appearance irritates me...  \n",
      "1250  b'RT @pbellot_LSIS: AlphaGo is not the solutio...  \n",
      "1251  b\"How Google's AlphaGo imitates human intuitio...  \n",
      "1252  b'RT @gwusigurcenter: In #SouthKorea, #Google ...  \n",
      "\n",
      "[1253 rows x 4 columns]\n"
     ]
    }
   ],
   "source": [
    "print(ag)"
   ]
  },
  {
   "cell_type": "code",
   "execution_count": 5,
   "metadata": {
    "collapsed": false
   },
   "outputs": [
    {
     "name": "stdout",
     "output_type": "stream",
     "text": [
      "               ID              author           time  \\\n",
      "0    7.192480e+17        b'angelcv01'  4/10/16 19:36   \n",
      "1    7.192480e+17          b'ASC2112'  4/10/16 19:36   \n",
      "2    7.192480e+17     b'bigirwenkyaj'  4/10/16 19:36   \n",
      "3    7.192480e+17      b'sissypaulaq'  4/10/16 19:36   \n",
      "4    7.192470e+17        b'GuiLevass'  4/10/16 19:34   \n",
      "5    7.192470e+17  b'eugene_agafonov'  4/10/16 19:32   \n",
      "6    7.192470e+17  b'OpenMarketingTV'  4/10/16 19:32   \n",
      "7    7.192460e+17       b'iamlindner'  4/10/16 19:29   \n",
      "8    7.192460e+17      b'ChaohaiDing'  4/10/16 19:27   \n",
      "9    7.192450e+17      b'thenewstack'  4/10/16 19:25   \n",
      "10   7.192450e+17         b'R2Drones'  4/10/16 19:24   \n",
      "11   7.192450e+17      b'GlaciarBlue'  4/10/16 19:23   \n",
      "12   7.192440e+17     b'Kobayashi_H_'  4/10/16 19:23   \n",
      "13   7.192440e+17    b'itknowingness'  4/10/16 19:22   \n",
      "14   7.192440e+17          b'2Groupe'  4/10/16 19:22   \n",
      "15   7.192430e+17  b'baillybailliere'  4/10/16 19:19   \n",
      "16   7.192430e+17       b'sachinghai'  4/10/16 19:17   \n",
      "17   7.192430e+17    b'ArkangelScrap'  4/10/16 19:17   \n",
      "18   7.192430e+17      b'YwanVanLoon'  4/10/16 19:16   \n",
      "19   7.192430e+17   b'matthew_reames'  4/10/16 19:16   \n",
      "20   7.192420e+17     b'OReillyMedia'  4/10/16 19:15   \n",
      "21   7.192420e+17            b'medhi'  4/10/16 19:13   \n",
      "22   7.192420e+17      b'RICarpenter'  4/10/16 19:13   \n",
      "23   7.192420e+17          b'csoliss'  4/10/16 19:12   \n",
      "24   7.192410e+17        b'RelearnML'  4/10/16 19:08   \n",
      "25   7.192400e+17      b'nlp_stories'  4/10/16 19:07   \n",
      "26   7.192400e+17   b'Ronald_vanLoon'  4/10/16 19:06   \n",
      "27   7.192390e+17   b'JasmineGruiaGr'  4/10/16 19:03   \n",
      "28   7.192390e+17      b'VendorClips'  4/10/16 19:02   \n",
      "29   7.192390e+17        b'winkytiki'  4/10/16 19:01   \n",
      "..            ...                 ...            ...   \n",
      "196  7.175850e+17   b'lordcedric_com'    4/6/16 5:29   \n",
      "197  7.175850e+17      b'InsightCity'    4/6/16 5:29   \n",
      "198  7.175850e+17        b'karanyudi'    4/6/16 5:29   \n",
      "199  7.175850e+17           b'bpalit'    4/6/16 5:29   \n",
      "200  7.175850e+17      b'GadgetMondo'    4/6/16 5:28   \n",
      "201  7.175850e+17        b'thibetian'    4/6/16 5:28   \n",
      "202  7.175850e+17      b'exapologist'    4/6/16 5:28   \n",
      "203  7.175850e+17  b'TheStartUpGirl_'    4/6/16 5:28   \n",
      "204  7.175850e+17      b'VentureBeat'    4/6/16 5:28   \n",
      "205  7.175850e+17       b'MarcRodier'    4/6/16 5:27   \n",
      "206  7.175840e+17   b'martinschulzke'    4/6/16 5:27   \n",
      "207  7.175840e+17    b'Thomas_Harrer'    4/6/16 5:26   \n",
      "208  7.175840e+17  b'GabriellaCeresa'    4/6/16 5:26   \n",
      "209  7.175840e+17     b'SciSolutions'    4/6/16 5:26   \n",
      "210  7.175840e+17        b'GayExiles'    4/6/16 5:26   \n",
      "211  7.175840e+17          b'JdMinks'    4/6/16 5:26   \n",
      "212  7.175840e+17  b'giovanniserlijn'    4/6/16 5:26   \n",
      "213  7.175840e+17  b'PLA_Unit_61398_'    4/6/16 5:25   \n",
      "214  7.175840e+17         b'RP_Drone'    4/6/16 5:25   \n",
      "215  7.175840e+17        b'grel_2014'    4/6/16 5:24   \n",
      "216  7.175840e+17      b'ChuaBernice'    4/6/16 5:24   \n",
      "217  7.175830e+17       b'icelaglace'    4/6/16 5:23   \n",
      "218  7.175830e+17       b'ovenstonew'    4/6/16 5:22   \n",
      "219  7.175830e+17       b'TomPJacobs'    4/6/16 5:21   \n",
      "220  7.175830e+17    b'iambrianfelix'    4/6/16 5:21   \n",
      "221  7.175830e+17        b'webpusher'    4/6/16 5:20   \n",
      "222  7.175830e+17       b'NewsXuffle'    4/6/16 5:20   \n",
      "223  7.175820e+17     b'ElizaPayne14'    4/6/16 5:19   \n",
      "224  7.175820e+17       b'iquilezles'    4/6/16 5:18   \n",
      "225  7.175820e+17   b'OKKinderhookRG'    4/6/16 5:18   \n",
      "\n",
      "                                                  text  \n",
      "0    b'RT @Ronald_vanLoon: What kind of decision bo...  \n",
      "1    b'Is Deep Learning the Final Frontier and the ...  \n",
      "2    b'RT @Ronald_vanLoon: What kind of decision bo...  \n",
      "3    b'@DvineAdiction sorry goddess Nikki .(deep cu...  \n",
      "4    b'RT @VanRijmenam: Top stories for Apr 3-9: De...  \n",
      "5    b'RT @OReillyMedia: Get started with #deeplear...  \n",
      "6    b'RT @datiobdEng: Tips for #DeepLearning #Neur...  \n",
      "7    b'#Salesforce(.com) acquires #deep #learning #...  \n",
      "8    b'RT @jenneville72: Great answer from @etzioni...  \n",
      "9    b'.@DeepInfoSci Offers a Self-Tuning Database ...  \n",
      "10   b'RT @futureofmovemnt: #GTC16 #Nvidia unveils ...  \n",
      "11   b'RT @Ronald_vanLoon: What kind of decision bo...  \n",
      "12   b'RT @Ronald_vanLoon: What kind of decision bo...  \n",
      "13   b'RT @futureofmovemnt: #GTC16 #Nvidia unveils ...  \n",
      "14   b'RT @futureofmovemnt: #GTC16 #Nvidia unveils ...  \n",
      "15   b'What Is Deep Learning And How Is It Useful?\\...  \n",
      "16   b'deep learning is leveraging other technologi...  \n",
      "17   b'RT @Ronald_vanLoon: What kind of decision bo...  \n",
      "18   b'RT @Ronald_vanLoon: What kind of decision bo...  \n",
      "19   b'Looking forward to #NCTM2016 this week!  Com...  \n",
      "20   b'Get started with #deeplearning in computer v...  \n",
      "21   b'RT @Ronald_vanLoon: What kind of decision bo...  \n",
      "22   b'RT @Ronald_vanLoon: What kind of decision bo...  \n",
      "23   b'Libro sobre Deep Learning https://t.co/0cord...  \n",
      "24   b'RT @NVIDIAGRID: IBM Cloud Services (Softlaye...  \n",
      "25   b'RT @Ronald_vanLoon: What kind of decision bo...  \n",
      "26   b'What kind of decision boundaries does Deep L...  \n",
      "27   b'@DNABARCODE deep learning is already being a...  \n",
      "28   b'A Short History Of Deep Learning \\xe2\\x80\\x9...  \n",
      "29   b'Deep Work and Deep Learning for Your Career ...  \n",
      "..                                                 ...  \n",
      "196  b'#VentureBeat: Amazon hires team behind deep ...  \n",
      "197  b'RT @CitySciences: .@AjitJaokar talks about D...  \n",
      "198  b'RT @VentureBeat: Amazon hires team behind de...  \n",
      "199  b'1) The other Tesla launch this week. #AI bec...  \n",
      "200  b\"NVIDIA's insane DGX-1 is a computer tailor-m...  \n",
      "201  b'RT @VentureBeat: Amazon hires team behind de...  \n",
      "202  b'NVIDIA announces a supercomputer aimed at de...  \n",
      "203  b'RT @VentureBeat: Amazon hires team behind de...  \n",
      "204  b'Amazon hires team behind deep learning start...  \n",
      "205  b'RT @PetiotEric: IBM wants to accelerate #AI ...  \n",
      "206  b'RT @pcworld: This 170TF @Nvidia DGX1 superco...  \n",
      "207  b'RT @DouglasBalog1: IBM has implemented NVLin...  \n",
      "208  b'Insilico Medicine to present deep learned bi...  \n",
      "209  b'Insilico Medicine to present deep learned bi...  \n",
      "210  b'Insilico Medicine to present deep learned bi...  \n",
      "211  b'@cavali3rr same. been having a better schedu...  \n",
      "212  b'RT @alexanderwear: Mass General will use art...  \n",
      "213  b\"RT @engadget: NVIDIA's insane DGX-1 is a com...  \n",
      "214  b\"RT @engadget: NVIDIA's insane DGX-1 is a com...  \n",
      "215  b'RT @pasqborriello: Supercomputer Nvidia per ...  \n",
      "216  b'I saw this today at #GTC16!! ^___^ https://t...  \n",
      "217  b'RT @iquilezles: So the \"G\" in the \"GTC\" stan...  \n",
      "218  b'NVIDIA announces a supercomputer aimed at de...  \n",
      "219  b'RT @ferrouswheel: \"Deep Learning and AI isn\\...  \n",
      "220  b'NVIDIA announces a supercomputer aimed at de...  \n",
      "221  b'ooh! nice! shiny https://t.co/2UNaurIaaY wai...  \n",
      "222  b'Nvidia announces a supercomputer aimed at de...  \n",
      "223  b'RT @ViralBuzzes: NVIDIA announces a supercom...  \n",
      "224  b'So the \"G\" in the \"GTC\" stands for \"Deep Lea...  \n",
      "225  b'RT @iDigitalTrends: GTC 2016: Nvidia thinks ...  \n",
      "\n",
      "[13132 rows x 4 columns]\n"
     ]
    }
   ],
   "source": [
    "print(dl)"
   ]
  },
  {
   "cell_type": "markdown",
   "metadata": {},
   "source": [
    "Secondly, I add a tag to both dataset to distinguish them. Cause ID column does no contribute to our analysis, so I remove it."
   ]
  },
  {
   "cell_type": "code",
   "execution_count": 6,
   "metadata": {
    "collapsed": true
   },
   "outputs": [],
   "source": [
    "#add tag to datasets\n",
    "ag1['Alphago']=1\n",
    "dl1['DeepLearning']=1\n",
    "\n",
    "ag['tag']='Alphago'\n",
    "dl['tag']='DeepLearning'"
   ]
  },
  {
   "cell_type": "code",
   "execution_count": 7,
   "metadata": {
    "collapsed": false,
    "scrolled": true
   },
   "outputs": [],
   "source": [
    "#delete ID column\n",
    "del ag['ID']\n",
    "del dl['ID']\n",
    "del ag1['ID']\n",
    "del dl1['ID']"
   ]
  },
  {
   "cell_type": "markdown",
   "metadata": {},
   "source": [
    "Clean the data, remove some useless characters from data, such as \"b'\" in datasets."
   ]
  },
  {
   "cell_type": "code",
   "execution_count": 8,
   "metadata": {
    "collapsed": false
   },
   "outputs": [],
   "source": [
    "#select string from a centain range to remove the useless characters\n",
    "ag['author'] = ag['author'].map(lambda x: str(x)[2:-1])\n",
    "ag['text'] = ag['text'].map(lambda x: str(x)[2:-1])\n",
    "\n",
    "dl['author'] = dl['author'].map(lambda x: str(x)[2:-1])\n",
    "dl['text'] = dl['text'].map(lambda x: str(x)[2:-1])\n",
    "\n",
    "ag1['author'] = ag1['author'].map(lambda x: str(x)[2:-1])\n",
    "ag1['text'] = ag1['text'].map(lambda x: str(x)[2:-1])\n",
    "\n",
    "dl1['author'] = dl1['author'].map(lambda x: str(x)[2:-1])\n",
    "dl1['text'] = dl1['text'].map(lambda x: str(x)[2:-1])"
   ]
  },
  {
   "cell_type": "markdown",
   "metadata": {},
   "source": [
    "Improve data by add a column 'data', so that we could abstract data in a higher hierarchy."
   ]
  },
  {
   "cell_type": "code",
   "execution_count": 9,
   "metadata": {
    "collapsed": false
   },
   "outputs": [],
   "source": [
    "#function to create a new column based on value of old column\n",
    "def f(row):\n",
    "    if row['time'][0:4] == '4/10':\n",
    "        val = '04/10'\n",
    "    elif row['time'][0:4] == '4/7':\n",
    "        val = '04/07'\n",
    "    elif row['time'][0:4] == '4/8/':\n",
    "        val = '04/08'\n",
    "    elif row['time'][0:4] == '4/9/':\n",
    "        val = '04/09'\n",
    "    else:\n",
    "        val = '04/06'\n",
    "    return val\n",
    "\n",
    "#add column \"date\"\n",
    "ag['date']=ag.apply(f,axis=1)\n",
    "dl['date']=dl.apply(f,axis=1)\n",
    "\n",
    "ag1['date']=ag1.apply(f,axis=1)\n",
    "dl1['date']=dl1.apply(f,axis=1)\n",
    "\n",
    "#combine two datasets together\n",
    "result=ag.append(dl)\n",
    "result1=ag1.append(dl1)"
   ]
  },
  {
   "cell_type": "markdown",
   "metadata": {},
   "source": [
    "Check whether it has some empty data."
   ]
  },
  {
   "cell_type": "code",
   "execution_count": 10,
   "metadata": {
    "collapsed": false
   },
   "outputs": [
    {
     "data": {
      "text/plain": [
       "author    0\n",
       "time      0\n",
       "text      0\n",
       "tag       0\n",
       "date      0\n",
       "dtype: int64"
      ]
     },
     "execution_count": 10,
     "metadata": {},
     "output_type": "execute_result"
    }
   ],
   "source": [
    "ag.isnull().sum()"
   ]
  },
  {
   "cell_type": "code",
   "execution_count": 11,
   "metadata": {
    "collapsed": false
   },
   "outputs": [
    {
     "data": {
      "text/plain": [
       "author    0\n",
       "time      0\n",
       "text      0\n",
       "tag       0\n",
       "date      0\n",
       "dtype: int64"
      ]
     },
     "execution_count": 11,
     "metadata": {},
     "output_type": "execute_result"
    }
   ],
   "source": [
    "dl.isnull().sum()"
   ]
  },
  {
   "cell_type": "code",
   "execution_count": 12,
   "metadata": {
    "collapsed": false
   },
   "outputs": [
    {
     "data": {
      "text/plain": [
       "author    0\n",
       "time      0\n",
       "text      0\n",
       "tag       0\n",
       "date      0\n",
       "dtype: int64"
      ]
     },
     "execution_count": 12,
     "metadata": {},
     "output_type": "execute_result"
    }
   ],
   "source": [
    "result.isnull().sum()"
   ]
  },
  {
   "cell_type": "code",
   "execution_count": 13,
   "metadata": {
    "collapsed": false
   },
   "outputs": [
    {
     "data": {
      "text/plain": [
       "Alphago         13132\n",
       "DeepLearning     1253\n",
       "author              0\n",
       "date                0\n",
       "text                0\n",
       "time                0\n",
       "dtype: int64"
      ]
     },
     "execution_count": 13,
     "metadata": {},
     "output_type": "execute_result"
    }
   ],
   "source": [
    "result1.isnull().sum()"
   ]
  },
  {
   "cell_type": "markdown",
   "metadata": {},
   "source": [
    "Fill the dataset and **output** the clean data to **CSV** files."
   ]
  },
  {
   "cell_type": "code",
   "execution_count": 22,
   "metadata": {
    "collapsed": false
   },
   "outputs": [],
   "source": [
    "#fill the blank\n",
    "result2=result1.fillna(0)\n",
    "\n",
    "#output the data to csv file\n",
    "ag.to_csv(\"alphago_clean.csv\")\n",
    "dl.to_csv(\"deeplearning_clean.csv\")\n",
    "result2.to_csv(\"clean_data.csv\")"
   ]
  },
  {
   "cell_type": "markdown",
   "metadata": {},
   "source": [
    "Do some describe and summarization"
   ]
  },
  {
   "cell_type": "code",
   "execution_count": 15,
   "metadata": {
    "collapsed": false
   },
   "outputs": [
    {
     "data": {
      "text/html": [
       "<div>\n",
       "<table border=\"1\" class=\"dataframe\">\n",
       "  <thead>\n",
       "    <tr style=\"text-align: right;\">\n",
       "      <th></th>\n",
       "      <th></th>\n",
       "      <th>author</th>\n",
       "      <th>date</th>\n",
       "      <th>text</th>\n",
       "      <th>time</th>\n",
       "    </tr>\n",
       "    <tr>\n",
       "      <th>tag</th>\n",
       "      <th></th>\n",
       "      <th></th>\n",
       "      <th></th>\n",
       "      <th></th>\n",
       "      <th></th>\n",
       "    </tr>\n",
       "  </thead>\n",
       "  <tbody>\n",
       "    <tr>\n",
       "      <th rowspan=\"4\" valign=\"top\">Alphago</th>\n",
       "      <th>count</th>\n",
       "      <td>1253</td>\n",
       "      <td>1253</td>\n",
       "      <td>1253</td>\n",
       "      <td>1253</td>\n",
       "    </tr>\n",
       "    <tr>\n",
       "      <th>unique</th>\n",
       "      <td>858</td>\n",
       "      <td>4</td>\n",
       "      <td>1006</td>\n",
       "      <td>1093</td>\n",
       "    </tr>\n",
       "    <tr>\n",
       "      <th>top</th>\n",
       "      <td>AlphaGoWins</td>\n",
       "      <td>04/06</td>\n",
       "      <td>RT @NYTScience: The Go champion that lost to G...</td>\n",
       "      <td>4/8/16 15:10</td>\n",
       "    </tr>\n",
       "    <tr>\n",
       "      <th>freq</th>\n",
       "      <td>213</td>\n",
       "      <td>595</td>\n",
       "      <td>25</td>\n",
       "      <td>5</td>\n",
       "    </tr>\n",
       "    <tr>\n",
       "      <th rowspan=\"4\" valign=\"top\">DeepLearning</th>\n",
       "      <th>count</th>\n",
       "      <td>13132</td>\n",
       "      <td>13132</td>\n",
       "      <td>13132</td>\n",
       "      <td>13132</td>\n",
       "    </tr>\n",
       "    <tr>\n",
       "      <th>unique</th>\n",
       "      <td>7263</td>\n",
       "      <td>4</td>\n",
       "      <td>7623</td>\n",
       "      <td>4410</td>\n",
       "    </tr>\n",
       "    <tr>\n",
       "      <th>top</th>\n",
       "      <td>nschaetti</td>\n",
       "      <td>04/06</td>\n",
       "      <td>RT @TechCrunch: Nvidia announces a supercomput...</td>\n",
       "      <td>4/7/16 15:17</td>\n",
       "    </tr>\n",
       "    <tr>\n",
       "      <th>freq</th>\n",
       "      <td>420</td>\n",
       "      <td>8919</td>\n",
       "      <td>240</td>\n",
       "      <td>137</td>\n",
       "    </tr>\n",
       "  </tbody>\n",
       "</table>\n",
       "</div>"
      ],
      "text/plain": [
       "                          author   date  \\\n",
       "tag                                       \n",
       "Alphago      count          1253   1253   \n",
       "             unique          858      4   \n",
       "             top     AlphaGoWins  04/06   \n",
       "             freq            213    595   \n",
       "DeepLearning count         13132  13132   \n",
       "             unique         7263      4   \n",
       "             top       nschaetti  04/06   \n",
       "             freq            420   8919   \n",
       "\n",
       "                                                                  text  \\\n",
       "tag                                                                      \n",
       "Alphago      count                                                1253   \n",
       "             unique                                               1006   \n",
       "             top     RT @NYTScience: The Go champion that lost to G...   \n",
       "             freq                                                   25   \n",
       "DeepLearning count                                               13132   \n",
       "             unique                                               7623   \n",
       "             top     RT @TechCrunch: Nvidia announces a supercomput...   \n",
       "             freq                                                  240   \n",
       "\n",
       "                             time  \n",
       "tag                                \n",
       "Alphago      count           1253  \n",
       "             unique          1093  \n",
       "             top     4/8/16 15:10  \n",
       "             freq               5  \n",
       "DeepLearning count          13132  \n",
       "             unique          4410  \n",
       "             top     4/7/16 15:17  \n",
       "             freq             137  "
      ]
     },
     "execution_count": 15,
     "metadata": {},
     "output_type": "execute_result"
    }
   ],
   "source": [
    "#abstract the data by \"tag\"\n",
    "grouprs=result.groupby(\"tag\")\n",
    "grouprs.describe()"
   ]
  },
  {
   "cell_type": "code",
   "execution_count": 16,
   "metadata": {
    "collapsed": false
   },
   "outputs": [
    {
     "data": {
      "text/html": [
       "<div>\n",
       "<table border=\"1\" class=\"dataframe\">\n",
       "  <thead>\n",
       "    <tr style=\"text-align: right;\">\n",
       "      <th></th>\n",
       "      <th></th>\n",
       "      <th>author</th>\n",
       "      <th>tag</th>\n",
       "      <th>text</th>\n",
       "      <th>time</th>\n",
       "    </tr>\n",
       "    <tr>\n",
       "      <th>date</th>\n",
       "      <th></th>\n",
       "      <th></th>\n",
       "      <th></th>\n",
       "      <th></th>\n",
       "      <th></th>\n",
       "    </tr>\n",
       "  </thead>\n",
       "  <tbody>\n",
       "    <tr>\n",
       "      <th rowspan=\"4\" valign=\"top\">04/06</th>\n",
       "      <th>count</th>\n",
       "      <td>9514</td>\n",
       "      <td>9514</td>\n",
       "      <td>9514</td>\n",
       "      <td>9514</td>\n",
       "    </tr>\n",
       "    <tr>\n",
       "      <th>unique</th>\n",
       "      <td>5281</td>\n",
       "      <td>2</td>\n",
       "      <td>5343</td>\n",
       "      <td>2211</td>\n",
       "    </tr>\n",
       "    <tr>\n",
       "      <th>top</th>\n",
       "      <td>nschaetti</td>\n",
       "      <td>DeepLearning</td>\n",
       "      <td>RT @TechCrunch: Nvidia announces a supercomput...</td>\n",
       "      <td>4/7/16 15:17</td>\n",
       "    </tr>\n",
       "    <tr>\n",
       "      <th>freq</th>\n",
       "      <td>154</td>\n",
       "      <td>8919</td>\n",
       "      <td>239</td>\n",
       "      <td>137</td>\n",
       "    </tr>\n",
       "    <tr>\n",
       "      <th rowspan=\"4\" valign=\"top\">04/08</th>\n",
       "      <th>count</th>\n",
       "      <td>2171</td>\n",
       "      <td>2171</td>\n",
       "      <td>2171</td>\n",
       "      <td>2171</td>\n",
       "    </tr>\n",
       "    <tr>\n",
       "      <th>unique</th>\n",
       "      <td>1714</td>\n",
       "      <td>2</td>\n",
       "      <td>1632</td>\n",
       "      <td>1020</td>\n",
       "    </tr>\n",
       "    <tr>\n",
       "      <th>top</th>\n",
       "      <td>nschaetti</td>\n",
       "      <td>DeepLearning</td>\n",
       "      <td>RT @googleresearch: The Google Brain team is f...</td>\n",
       "      <td>4/8/16 22:47</td>\n",
       "    </tr>\n",
       "    <tr>\n",
       "      <th>freq</th>\n",
       "      <td>68</td>\n",
       "      <td>1919</td>\n",
       "      <td>99</td>\n",
       "      <td>38</td>\n",
       "    </tr>\n",
       "    <tr>\n",
       "      <th rowspan=\"4\" valign=\"top\">04/09</th>\n",
       "      <th>count</th>\n",
       "      <td>1390</td>\n",
       "      <td>1390</td>\n",
       "      <td>1390</td>\n",
       "      <td>1390</td>\n",
       "    </tr>\n",
       "    <tr>\n",
       "      <th>unique</th>\n",
       "      <td>1024</td>\n",
       "      <td>2</td>\n",
       "      <td>1040</td>\n",
       "      <td>776</td>\n",
       "    </tr>\n",
       "    <tr>\n",
       "      <th>top</th>\n",
       "      <td>nschaetti</td>\n",
       "      <td>DeepLearning</td>\n",
       "      <td>RT @troykelly: .@_aylien launches News API by ...</td>\n",
       "      <td>4/9/16 0:00</td>\n",
       "    </tr>\n",
       "    <tr>\n",
       "      <th>freq</th>\n",
       "      <td>96</td>\n",
       "      <td>1176</td>\n",
       "      <td>52</td>\n",
       "      <td>41</td>\n",
       "    </tr>\n",
       "    <tr>\n",
       "      <th rowspan=\"4\" valign=\"top\">04/10</th>\n",
       "      <th>count</th>\n",
       "      <td>1310</td>\n",
       "      <td>1310</td>\n",
       "      <td>1310</td>\n",
       "      <td>1310</td>\n",
       "    </tr>\n",
       "    <tr>\n",
       "      <th>unique</th>\n",
       "      <td>929</td>\n",
       "      <td>2</td>\n",
       "      <td>872</td>\n",
       "      <td>690</td>\n",
       "    </tr>\n",
       "    <tr>\n",
       "      <th>top</th>\n",
       "      <td>nschaetti</td>\n",
       "      <td>DeepLearning</td>\n",
       "      <td>RT @Forbes: Nvidia CEO plans to redouble focus...</td>\n",
       "      <td>4/10/16 8:17</td>\n",
       "    </tr>\n",
       "    <tr>\n",
       "      <th>freq</th>\n",
       "      <td>113</td>\n",
       "      <td>1118</td>\n",
       "      <td>54</td>\n",
       "      <td>15</td>\n",
       "    </tr>\n",
       "  </tbody>\n",
       "</table>\n",
       "</div>"
      ],
      "text/plain": [
       "                 author           tag  \\\n",
       "date                                    \n",
       "04/06 count        9514          9514   \n",
       "      unique       5281             2   \n",
       "      top     nschaetti  DeepLearning   \n",
       "      freq          154          8919   \n",
       "04/08 count        2171          2171   \n",
       "      unique       1714             2   \n",
       "      top     nschaetti  DeepLearning   \n",
       "      freq           68          1919   \n",
       "04/09 count        1390          1390   \n",
       "      unique       1024             2   \n",
       "      top     nschaetti  DeepLearning   \n",
       "      freq           96          1176   \n",
       "04/10 count        1310          1310   \n",
       "      unique        929             2   \n",
       "      top     nschaetti  DeepLearning   \n",
       "      freq          113          1118   \n",
       "\n",
       "                                                           text          time  \n",
       "date                                                                           \n",
       "04/06 count                                                9514          9514  \n",
       "      unique                                               5343          2211  \n",
       "      top     RT @TechCrunch: Nvidia announces a supercomput...  4/7/16 15:17  \n",
       "      freq                                                  239           137  \n",
       "04/08 count                                                2171          2171  \n",
       "      unique                                               1632          1020  \n",
       "      top     RT @googleresearch: The Google Brain team is f...  4/8/16 22:47  \n",
       "      freq                                                   99            38  \n",
       "04/09 count                                                1390          1390  \n",
       "      unique                                               1040           776  \n",
       "      top     RT @troykelly: .@_aylien launches News API by ...   4/9/16 0:00  \n",
       "      freq                                                   52            41  \n",
       "04/10 count                                                1310          1310  \n",
       "      unique                                                872           690  \n",
       "      top     RT @Forbes: Nvidia CEO plans to redouble focus...  4/10/16 8:17  \n",
       "      freq                                                   54            15  "
      ]
     },
     "execution_count": 16,
     "metadata": {},
     "output_type": "execute_result"
    }
   ],
   "source": [
    "#abstract data by \"date\"\n",
    "grouprs1=result.groupby(\"date\")\n",
    "grouprs1.describe()"
   ]
  },
  {
   "cell_type": "code",
   "execution_count": 17,
   "metadata": {
    "collapsed": false
   },
   "outputs": [
    {
     "data": {
      "text/html": [
       "<div>\n",
       "<table border=\"1\" class=\"dataframe\">\n",
       "  <thead>\n",
       "    <tr style=\"text-align: right;\">\n",
       "      <th></th>\n",
       "      <th></th>\n",
       "      <th></th>\n",
       "      <th>author</th>\n",
       "      <th>text</th>\n",
       "      <th>time</th>\n",
       "    </tr>\n",
       "    <tr>\n",
       "      <th>date</th>\n",
       "      <th>tag</th>\n",
       "      <th></th>\n",
       "      <th></th>\n",
       "      <th></th>\n",
       "      <th></th>\n",
       "    </tr>\n",
       "  </thead>\n",
       "  <tbody>\n",
       "    <tr>\n",
       "      <th rowspan=\"8\" valign=\"top\">04/06</th>\n",
       "      <th rowspan=\"4\" valign=\"top\">Alphago</th>\n",
       "      <th>count</th>\n",
       "      <td>595</td>\n",
       "      <td>595</td>\n",
       "      <td>595</td>\n",
       "    </tr>\n",
       "    <tr>\n",
       "      <th>unique</th>\n",
       "      <td>458</td>\n",
       "      <td>486</td>\n",
       "      <td>506</td>\n",
       "    </tr>\n",
       "    <tr>\n",
       "      <th>top</th>\n",
       "      <td>AlphaGoWins</td>\n",
       "      <td>RT @kdnuggets: #AlphaGo is just the first step...</td>\n",
       "      <td>4/7/16 17:05</td>\n",
       "    </tr>\n",
       "    <tr>\n",
       "      <th>freq</th>\n",
       "      <td>83</td>\n",
       "      <td>11</td>\n",
       "      <td>4</td>\n",
       "    </tr>\n",
       "    <tr>\n",
       "      <th rowspan=\"4\" valign=\"top\">DeepLearning</th>\n",
       "      <th>count</th>\n",
       "      <td>8919</td>\n",
       "      <td>8919</td>\n",
       "      <td>8919</td>\n",
       "    </tr>\n",
       "    <tr>\n",
       "      <th>unique</th>\n",
       "      <td>4911</td>\n",
       "      <td>4866</td>\n",
       "      <td>2137</td>\n",
       "    </tr>\n",
       "    <tr>\n",
       "      <th>top</th>\n",
       "      <td>nschaetti</td>\n",
       "      <td>RT @TechCrunch: Nvidia announces a supercomput...</td>\n",
       "      <td>4/7/16 15:17</td>\n",
       "    </tr>\n",
       "    <tr>\n",
       "      <th>freq</th>\n",
       "      <td>151</td>\n",
       "      <td>239</td>\n",
       "      <td>137</td>\n",
       "    </tr>\n",
       "    <tr>\n",
       "      <th rowspan=\"8\" valign=\"top\">04/08</th>\n",
       "      <th rowspan=\"4\" valign=\"top\">Alphago</th>\n",
       "      <th>count</th>\n",
       "      <td>252</td>\n",
       "      <td>252</td>\n",
       "      <td>252</td>\n",
       "    </tr>\n",
       "    <tr>\n",
       "      <th>unique</th>\n",
       "      <td>182</td>\n",
       "      <td>235</td>\n",
       "      <td>220</td>\n",
       "    </tr>\n",
       "    <tr>\n",
       "      <th>top</th>\n",
       "      <td>AlphaGoWins</td>\n",
       "      <td>RT @tunguz: What AlphaGo\\xe2\\x80\\x99s Victory ...</td>\n",
       "      <td>4/8/16 15:10</td>\n",
       "    </tr>\n",
       "    <tr>\n",
       "      <th>freq</th>\n",
       "      <td>45</td>\n",
       "      <td>3</td>\n",
       "      <td>5</td>\n",
       "    </tr>\n",
       "    <tr>\n",
       "      <th rowspan=\"4\" valign=\"top\">DeepLearning</th>\n",
       "      <th>count</th>\n",
       "      <td>1919</td>\n",
       "      <td>1919</td>\n",
       "      <td>1919</td>\n",
       "    </tr>\n",
       "    <tr>\n",
       "      <th>unique</th>\n",
       "      <td>1556</td>\n",
       "      <td>1399</td>\n",
       "      <td>955</td>\n",
       "    </tr>\n",
       "    <tr>\n",
       "      <th>top</th>\n",
       "      <td>nschaetti</td>\n",
       "      <td>RT @googleresearch: The Google Brain team is f...</td>\n",
       "      <td>4/8/16 22:47</td>\n",
       "    </tr>\n",
       "    <tr>\n",
       "      <th>freq</th>\n",
       "      <td>66</td>\n",
       "      <td>99</td>\n",
       "      <td>38</td>\n",
       "    </tr>\n",
       "    <tr>\n",
       "      <th rowspan=\"8\" valign=\"top\">04/09</th>\n",
       "      <th rowspan=\"4\" valign=\"top\">Alphago</th>\n",
       "      <th>count</th>\n",
       "      <td>214</td>\n",
       "      <td>214</td>\n",
       "      <td>214</td>\n",
       "    </tr>\n",
       "    <tr>\n",
       "      <th>unique</th>\n",
       "      <td>148</td>\n",
       "      <td>175</td>\n",
       "      <td>198</td>\n",
       "    </tr>\n",
       "    <tr>\n",
       "      <th>top</th>\n",
       "      <td>AlphaGoWins</td>\n",
       "      <td>RT @NYTScience: The Go champion that lost to G...</td>\n",
       "      <td>4/9/16 1:56</td>\n",
       "    </tr>\n",
       "    <tr>\n",
       "      <th>freq</th>\n",
       "      <td>47</td>\n",
       "      <td>12</td>\n",
       "      <td>3</td>\n",
       "    </tr>\n",
       "    <tr>\n",
       "      <th rowspan=\"4\" valign=\"top\">DeepLearning</th>\n",
       "      <th>count</th>\n",
       "      <td>1176</td>\n",
       "      <td>1176</td>\n",
       "      <td>1176</td>\n",
       "    </tr>\n",
       "    <tr>\n",
       "      <th>unique</th>\n",
       "      <td>885</td>\n",
       "      <td>867</td>\n",
       "      <td>695</td>\n",
       "    </tr>\n",
       "    <tr>\n",
       "      <th>top</th>\n",
       "      <td>nschaetti</td>\n",
       "      <td>RT @troykelly: .@_aylien launches News API by ...</td>\n",
       "      <td>4/9/16 0:00</td>\n",
       "    </tr>\n",
       "    <tr>\n",
       "      <th>freq</th>\n",
       "      <td>96</td>\n",
       "      <td>52</td>\n",
       "      <td>41</td>\n",
       "    </tr>\n",
       "    <tr>\n",
       "      <th rowspan=\"8\" valign=\"top\">04/10</th>\n",
       "      <th rowspan=\"4\" valign=\"top\">Alphago</th>\n",
       "      <th>count</th>\n",
       "      <td>192</td>\n",
       "      <td>192</td>\n",
       "      <td>192</td>\n",
       "    </tr>\n",
       "    <tr>\n",
       "      <th>unique</th>\n",
       "      <td>142</td>\n",
       "      <td>149</td>\n",
       "      <td>169</td>\n",
       "    </tr>\n",
       "    <tr>\n",
       "      <th>top</th>\n",
       "      <td>AlphaGoWins</td>\n",
       "      <td>RT @NYTScience: The Go champion that lost to G...</td>\n",
       "      <td>4/10/16 5:15</td>\n",
       "    </tr>\n",
       "    <tr>\n",
       "      <th>freq</th>\n",
       "      <td>38</td>\n",
       "      <td>25</td>\n",
       "      <td>4</td>\n",
       "    </tr>\n",
       "    <tr>\n",
       "      <th rowspan=\"4\" valign=\"top\">DeepLearning</th>\n",
       "      <th>count</th>\n",
       "      <td>1118</td>\n",
       "      <td>1118</td>\n",
       "      <td>1118</td>\n",
       "    </tr>\n",
       "    <tr>\n",
       "      <th>unique</th>\n",
       "      <td>807</td>\n",
       "      <td>733</td>\n",
       "      <td>623</td>\n",
       "    </tr>\n",
       "    <tr>\n",
       "      <th>top</th>\n",
       "      <td>nschaetti</td>\n",
       "      <td>RT @Forbes: Nvidia CEO plans to redouble focus...</td>\n",
       "      <td>4/10/16 8:17</td>\n",
       "    </tr>\n",
       "    <tr>\n",
       "      <th>freq</th>\n",
       "      <td>107</td>\n",
       "      <td>54</td>\n",
       "      <td>15</td>\n",
       "    </tr>\n",
       "  </tbody>\n",
       "</table>\n",
       "</div>"
      ],
      "text/plain": [
       "                                author  \\\n",
       "date  tag                                \n",
       "04/06 Alphago      count           595   \n",
       "                   unique          458   \n",
       "                   top     AlphaGoWins   \n",
       "                   freq             83   \n",
       "      DeepLearning count          8919   \n",
       "                   unique         4911   \n",
       "                   top       nschaetti   \n",
       "                   freq            151   \n",
       "04/08 Alphago      count           252   \n",
       "                   unique          182   \n",
       "                   top     AlphaGoWins   \n",
       "                   freq             45   \n",
       "      DeepLearning count          1919   \n",
       "                   unique         1556   \n",
       "                   top       nschaetti   \n",
       "                   freq             66   \n",
       "04/09 Alphago      count           214   \n",
       "                   unique          148   \n",
       "                   top     AlphaGoWins   \n",
       "                   freq             47   \n",
       "      DeepLearning count          1176   \n",
       "                   unique          885   \n",
       "                   top       nschaetti   \n",
       "                   freq             96   \n",
       "04/10 Alphago      count           192   \n",
       "                   unique          142   \n",
       "                   top     AlphaGoWins   \n",
       "                   freq             38   \n",
       "      DeepLearning count          1118   \n",
       "                   unique          807   \n",
       "                   top       nschaetti   \n",
       "                   freq            107   \n",
       "\n",
       "                                                                        text  \\\n",
       "date  tag                                                                      \n",
       "04/06 Alphago      count                                                 595   \n",
       "                   unique                                                486   \n",
       "                   top     RT @kdnuggets: #AlphaGo is just the first step...   \n",
       "                   freq                                                   11   \n",
       "      DeepLearning count                                                8919   \n",
       "                   unique                                               4866   \n",
       "                   top     RT @TechCrunch: Nvidia announces a supercomput...   \n",
       "                   freq                                                  239   \n",
       "04/08 Alphago      count                                                 252   \n",
       "                   unique                                                235   \n",
       "                   top     RT @tunguz: What AlphaGo\\xe2\\x80\\x99s Victory ...   \n",
       "                   freq                                                    3   \n",
       "      DeepLearning count                                                1919   \n",
       "                   unique                                               1399   \n",
       "                   top     RT @googleresearch: The Google Brain team is f...   \n",
       "                   freq                                                   99   \n",
       "04/09 Alphago      count                                                 214   \n",
       "                   unique                                                175   \n",
       "                   top     RT @NYTScience: The Go champion that lost to G...   \n",
       "                   freq                                                   12   \n",
       "      DeepLearning count                                                1176   \n",
       "                   unique                                                867   \n",
       "                   top     RT @troykelly: .@_aylien launches News API by ...   \n",
       "                   freq                                                   52   \n",
       "04/10 Alphago      count                                                 192   \n",
       "                   unique                                                149   \n",
       "                   top     RT @NYTScience: The Go champion that lost to G...   \n",
       "                   freq                                                   25   \n",
       "      DeepLearning count                                                1118   \n",
       "                   unique                                                733   \n",
       "                   top     RT @Forbes: Nvidia CEO plans to redouble focus...   \n",
       "                   freq                                                   54   \n",
       "\n",
       "                                   time  \n",
       "date  tag                                \n",
       "04/06 Alphago      count            595  \n",
       "                   unique           506  \n",
       "                   top     4/7/16 17:05  \n",
       "                   freq               4  \n",
       "      DeepLearning count           8919  \n",
       "                   unique          2137  \n",
       "                   top     4/7/16 15:17  \n",
       "                   freq             137  \n",
       "04/08 Alphago      count            252  \n",
       "                   unique           220  \n",
       "                   top     4/8/16 15:10  \n",
       "                   freq               5  \n",
       "      DeepLearning count           1919  \n",
       "                   unique           955  \n",
       "                   top     4/8/16 22:47  \n",
       "                   freq              38  \n",
       "04/09 Alphago      count            214  \n",
       "                   unique           198  \n",
       "                   top      4/9/16 1:56  \n",
       "                   freq               3  \n",
       "      DeepLearning count           1176  \n",
       "                   unique           695  \n",
       "                   top      4/9/16 0:00  \n",
       "                   freq              41  \n",
       "04/10 Alphago      count            192  \n",
       "                   unique           169  \n",
       "                   top     4/10/16 5:15  \n",
       "                   freq               4  \n",
       "      DeepLearning count           1118  \n",
       "                   unique           623  \n",
       "                   top     4/10/16 8:17  \n",
       "                   freq              15  "
      ]
     },
     "execution_count": 17,
     "metadata": {},
     "output_type": "execute_result"
    }
   ],
   "source": [
    "#abstract data by both \"date\" and \"tag\"\n",
    "grouprs2=result.groupby(['date','tag'])\n",
    "grouprs2.describe()"
   ]
  },
  {
   "cell_type": "markdown",
   "metadata": {},
   "source": [
    "In this part I will do some **visualizations** to explore the data.\n",
    "First we are looking the number of two topic's tweets."
   ]
  },
  {
   "cell_type": "code",
   "execution_count": 18,
   "metadata": {
    "collapsed": false
   },
   "outputs": [
    {
     "data": {
      "image/png": "[encoded data removed]",
      "text/plain": [
       "<matplotlib.figure.Figure at 0x104940f98>"
      ]
     },
     "metadata": {},
     "output_type": "display_data"
    }
   ],
   "source": [
    "#visualize the number by bar chart\n",
    "number = result['tag'].value_counts()\n",
    "plt.xlabel(\"Category\")\n",
    "plt.ylabel(\"Number\")\n",
    "plt.title('Total Number of Tweets about Alphago and DeepLearning', fontsize=13, fontweight='bold')\n",
    "p=number.plot(kind=\"bar\")\n",
    "\n",
    "#save as png\n",
    "fig = p.get_figure()\n",
    "fig.savefig(\"tweets_bars.png\")"
   ]
  },
  {
   "cell_type": "markdown",
   "metadata": {},
   "source": [
    "We can find tweets about Deep Learning is much more than Alphago's.\n",
    "Then can also use pie chart to see which date has the most tweets."
   ]
  },
  {
   "cell_type": "code",
   "execution_count": 19,
   "metadata": {
    "collapsed": false
   },
   "outputs": [
    {
     "data": {
      "image/png": "[encoded data removed]",
      "text/plain": [
       "<matplotlib.figure.Figure at 0x1159c1a20>"
      ]
     },
     "metadata": {},
     "output_type": "display_data"
    }
   ],
   "source": [
    "#visualize the number by bar chart\n",
    "number = result['date'].value_counts()\n",
    "plt.title('Total Number of Tweets about Alphago and DeepLearning', fontsize=13, fontweight='bold')\n",
    "p=number.plot(kind=\"pie\",legend='best',autopct='%.2f%%')\n",
    "\n",
    "#save as png\n",
    "fig = p.get_figure()\n",
    "fig.savefig(\"tweets_pies.png\")"
   ]
  },
  {
   "cell_type": "markdown",
   "metadata": {},
   "source": [
    "We could find out that 06/04 has the largest tweets post.\n",
    "However, the number can't tell anything, we should look the change of number of twitters about two topics by **time series.**\n",
    "We should use line chart to reflect the trends of tweets post."
   ]
  },
  {
   "cell_type": "code",
   "execution_count": 20,
   "metadata": {
    "collapsed": false
   },
   "outputs": [
    {
     "data": {
      "image/png": "[encoded data removed]",
      "text/plain": [
       "<matplotlib.figure.Figure at 0x116c74f98>"
      ]
     },
     "metadata": {},
     "output_type": "display_data"
    }
   ],
   "source": [
    "#set the \"time\" column as index\n",
    "result1['time']=pd.to_datetime(pd.Series(result1['time']))\n",
    "result1.index = result1['time']\n",
    "\n",
    "#reassemble the data as time series, interval is 1 hour\n",
    "time = pd.DataFrame(result1.resample('1h', how='count'))\n",
    "\n",
    "#visual the data as line chart to see the change of two topic's twitters\n",
    "plt.ylabel('twitters number')\n",
    "plt.title('Time Series of Number of Tweets about Alphago and DeepLearning', fontsize=13, fontweight='bold')\n",
    "p=time.Alphago.plot(color='g')\n",
    "p=time.DeepLearning.plot(color='b')\n",
    "plt.legend(loc='best')\n",
    "\n",
    "#save as png\n",
    "fig = p.get_figure()\n",
    "fig.savefig(\"tweets_trend.png\")"
   ]
  },
  {
   "cell_type": "markdown",
   "metadata": {},
   "source": [
    "Because the tweets about Deep Learning is much more than Alphago, we can't see the trends of alphago clearly.\n",
    "So we should do some **normalization** here."
   ]
  },
  {
   "cell_type": "code",
   "execution_count": 21,
   "metadata": {
    "collapsed": false
   },
   "outputs": [
    {
     "data": {
      "image/png": "[encoded data removed]",
      "text/plain": [
       "<matplotlib.figure.Figure at 0x116c74d68>"
      ]
     },
     "metadata": {},
     "output_type": "display_data"
    }
   ],
   "source": [
    "#normalize the data by value/sum\n",
    "time['Alphago']=time['Alphago']/time['Alphago'].sum()\n",
    "time['DeepLearning']=time['DeepLearning']/time['DeepLearning'].sum()\n",
    "\n",
    "#visualize again\n",
    "plt.ylabel('twitters number(normalization)')\n",
    "plt.title('Time Series of Number of Tweets about Alphago and DeepLearning', fontsize=13, fontweight='bold')\n",
    "p=time.Alphago.plot(color='g')\n",
    "p=time.DeepLearning.plot(color='b')\n",
    "plt.legend(loc='best')\n",
    "\n",
    "#save as png\n",
    "fig = p.get_figure()\n",
    "fig.savefig(\"tweets_trend_normalization.png\")"
   ]
  },
  {
   "cell_type": "markdown",
   "metadata": {},
   "source": [
    "Now, the tendency is clear, we can find out the post number of Deep Learning and Alphago has dramatical **synchronization**, namely, though has a little lag, when line of DeepLearning climbs to peaks, so does Alphago and when line of DeepLearning goes down, the same situation will happen in line of Alphago."
   ]
  },
  {
   "cell_type": "markdown",
   "metadata": {},
   "source": [
    "It may reflect there are some postive corelaiton in two datasets, it means a tweet about DeepLearning has a high possibility to mention Alphago too.  "
   ]
  }
 ],
 "metadata": {
  "kernelspec": {
   "display_name": "Python 3",
   "language": "python",
   "name": "python3"
  },
  "language_info": {
   "codemirror_mode": {
    "name": "ipython",
    "version": 3
   },
   "file_extension": ".py",
   "mimetype": "text/x-python",
   "name": "python",
   "nbconvert_exporter": "python",
   "pygments_lexer": "ipython3",
   "version": "3.5.1"
  }
 },
 "nbformat": 4,
 "nbformat_minor": 0
}
